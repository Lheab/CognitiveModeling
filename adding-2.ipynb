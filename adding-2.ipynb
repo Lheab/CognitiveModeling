{
 "cells": [
  {
   "cell_type": "code",
   "execution_count": 1,
   "id": "4ca57612",
   "metadata": {},
   "outputs": [],
   "source": [
    "from model import Model\n",
    "from dmchunk import Chunk\n",
    "import numpy as np\n",
    "import matplotlib.pyplot as plt"
   ]
  },
  {
   "cell_type": "code",
   "execution_count": 2,
   "id": "8cc45f09",
   "metadata": {},
   "outputs": [],
   "source": [
    "m = Model()"
   ]
  },
  {
   "cell_type": "code",
   "execution_count": 3,
   "id": "58dcbcc0",
   "metadata": {},
   "outputs": [],
   "source": [
    "g = Chunk(name = \"goal-chunk\", slots = {\"goal\": \"add\", \"thesum\":\"two\", \"counter\": \"zero\"})\n",
    "m.goal = g"
   ]
  },
  {
   "cell_type": "code",
   "execution_count": 4,
   "id": "33e6df58",
   "metadata": {
    "scrolled": false
   },
   "outputs": [
    {
     "name": "stdout",
     "output_type": "stream",
     "text": [
      "\n",
      "=== Model ===\n",
      "Time: 0 s \n",
      "Goal:Chunk goal-chunk\n",
      "Slots: {'goal': 'add', 'thesum': 'two', 'counter': 'zero'}\n",
      "Encounters: []\n",
      "Fan: 0\n",
      "\n",
      "DM:\n",
      "\n"
     ]
    }
   ],
   "source": [
    "print(m)"
   ]
  },
  {
   "cell_type": "code",
   "execution_count": 5,
   "id": "6a952852",
   "metadata": {},
   "outputs": [],
   "source": [
    "fact1 = Chunk(name =\"cf1\", slots = {\"isa\" : \"count-fact\", \"num1\" : \"one\", \"num2\" : \"two\"})"
   ]
  },
  {
   "cell_type": "code",
   "execution_count": 6,
   "id": "8ac64749",
   "metadata": {},
   "outputs": [],
   "source": [
    "m.add_encounter(fact1)"
   ]
  },
  {
   "cell_type": "code",
   "execution_count": 7,
   "id": "4640c767",
   "metadata": {},
   "outputs": [],
   "source": [
    "m.time += 1.0\n",
    "m.add_encounter(fact1)"
   ]
  },
  {
   "cell_type": "code",
   "execution_count": 8,
   "id": "94208237",
   "metadata": {
    "scrolled": true
   },
   "outputs": [
    {
     "name": "stdout",
     "output_type": "stream",
     "text": [
      "\n",
      "=== Model ===\n",
      "Time: 1.0 s \n",
      "Goal:Chunk goal-chunk\n",
      "Slots: {'goal': 'add', 'thesum': 'two', 'counter': 'zero'}\n",
      "Encounters: []\n",
      "Fan: 0\n",
      "\n",
      "DM:Chunk cf1\n",
      "Slots: {'isa': 'count-fact', 'num1': 'one', 'num2': 'two'}\n",
      "Encounters: [0, 1.0]\n",
      "Fan: 0\n",
      "\n",
      "Chunk count-fact\n",
      "Slots: {}\n",
      "Encounters: [0]\n",
      "Fan: 1\n",
      "\n",
      "Chunk one\n",
      "Slots: {}\n",
      "Encounters: [0]\n",
      "Fan: 1\n",
      "\n",
      "Chunk two\n",
      "Slots: {}\n",
      "Encounters: [0]\n",
      "Fan: 1\n",
      "\n",
      "\n"
     ]
    }
   ],
   "source": [
    "print(m)"
   ]
  },
  {
   "cell_type": "code",
   "execution_count": 9,
   "id": "bbe6a790",
   "metadata": {},
   "outputs": [],
   "source": [
    "numbers = [\"zero\",\"one\",\"two\",\"three\",\"four\",\"five\",\"six\",\"seven\",\"eight\",\"nine\",\"ten\"]\n",
    "for i in range(0,len(numbers)-1):\n",
    "    fact = Chunk(name = \"cf\" + numbers[i], slots ={\"isa\":\"count-fact\", \"num1\": numbers[i], \"num2\" : numbers[i+1]})\n",
    "    m.add_encounter(fact)"
   ]
  },
  {
   "cell_type": "code",
   "execution_count": 10,
   "id": "c079dada",
   "metadata": {},
   "outputs": [
    {
     "name": "stdout",
     "output_type": "stream",
     "text": [
      "\n",
      "=== Model ===\n",
      "Time: 1.0 s \n",
      "Goal:Chunk goal-chunk\n",
      "Slots: {'goal': 'add', 'thesum': 'two', 'counter': 'zero'}\n",
      "Encounters: []\n",
      "Fan: 0\n",
      "\n",
      "DM:Chunk cf1\n",
      "Slots: {'isa': 'count-fact', 'num1': 'one', 'num2': 'two'}\n",
      "Encounters: [0, 1.0]\n",
      "Fan: 0\n",
      "\n",
      "Chunk count-fact\n",
      "Slots: {}\n",
      "Encounters: [0]\n",
      "Fan: 11\n",
      "\n",
      "Chunk one\n",
      "Slots: {}\n",
      "Encounters: [0]\n",
      "Fan: 3\n",
      "\n",
      "Chunk two\n",
      "Slots: {}\n",
      "Encounters: [0]\n",
      "Fan: 3\n",
      "\n",
      "Chunk cfzero\n",
      "Slots: {'isa': 'count-fact', 'num1': 'zero', 'num2': 'one'}\n",
      "Encounters: [1.0]\n",
      "Fan: 0\n",
      "\n",
      "Chunk zero\n",
      "Slots: {}\n",
      "Encounters: [1.0]\n",
      "Fan: 1\n",
      "\n",
      "Chunk cfone\n",
      "Slots: {'isa': 'count-fact', 'num1': 'one', 'num2': 'two'}\n",
      "Encounters: [1.0]\n",
      "Fan: 0\n",
      "\n",
      "Chunk cftwo\n",
      "Slots: {'isa': 'count-fact', 'num1': 'two', 'num2': 'three'}\n",
      "Encounters: [1.0]\n",
      "Fan: 0\n",
      "\n",
      "Chunk three\n",
      "Slots: {}\n",
      "Encounters: [1.0]\n",
      "Fan: 2\n",
      "\n",
      "Chunk cfthree\n",
      "Slots: {'isa': 'count-fact', 'num1': 'three', 'num2': 'four'}\n",
      "Encounters: [1.0]\n",
      "Fan: 0\n",
      "\n",
      "Chunk four\n",
      "Slots: {}\n",
      "Encounters: [1.0]\n",
      "Fan: 2\n",
      "\n",
      "Chunk cffour\n",
      "Slots: {'isa': 'count-fact', 'num1': 'four', 'num2': 'five'}\n",
      "Encounters: [1.0]\n",
      "Fan: 0\n",
      "\n",
      "Chunk five\n",
      "Slots: {}\n",
      "Encounters: [1.0]\n",
      "Fan: 2\n",
      "\n",
      "Chunk cffive\n",
      "Slots: {'isa': 'count-fact', 'num1': 'five', 'num2': 'six'}\n",
      "Encounters: [1.0]\n",
      "Fan: 0\n",
      "\n",
      "Chunk six\n",
      "Slots: {}\n",
      "Encounters: [1.0]\n",
      "Fan: 2\n",
      "\n",
      "Chunk cfsix\n",
      "Slots: {'isa': 'count-fact', 'num1': 'six', 'num2': 'seven'}\n",
      "Encounters: [1.0]\n",
      "Fan: 0\n",
      "\n",
      "Chunk seven\n",
      "Slots: {}\n",
      "Encounters: [1.0]\n",
      "Fan: 2\n",
      "\n",
      "Chunk cfseven\n",
      "Slots: {'isa': 'count-fact', 'num1': 'seven', 'num2': 'eight'}\n",
      "Encounters: [1.0]\n",
      "Fan: 0\n",
      "\n",
      "Chunk eight\n",
      "Slots: {}\n",
      "Encounters: [1.0]\n",
      "Fan: 2\n",
      "\n",
      "Chunk cfeight\n",
      "Slots: {'isa': 'count-fact', 'num1': 'eight', 'num2': 'nine'}\n",
      "Encounters: [1.0]\n",
      "Fan: 0\n",
      "\n",
      "Chunk nine\n",
      "Slots: {}\n",
      "Encounters: [1.0]\n",
      "Fan: 2\n",
      "\n",
      "Chunk cfnine\n",
      "Slots: {'isa': 'count-fact', 'num1': 'nine', 'num2': 'ten'}\n",
      "Encounters: [1.0]\n",
      "Fan: 0\n",
      "\n",
      "Chunk ten\n",
      "Slots: {}\n",
      "Encounters: [1.0]\n",
      "Fan: 1\n",
      "\n",
      "\n"
     ]
    }
   ],
   "source": [
    "print(m)"
   ]
  },
  {
   "cell_type": "code",
   "execution_count": 11,
   "id": "3e5e99eb",
   "metadata": {},
   "outputs": [],
   "source": [
    "def add(thesum,count):\n",
    "    g = Chunk(name = \"goal\", slots = {\"isa\":\"add-goal\",\"thesum\":thesum,\"count\":count})\n",
    "    m.goal = g\n",
    "    done = False\n",
    "    while not done:\n",
    "        if not \"current\" in g.slots:\n",
    "            g.slots[\"current\"] = g.slots[\"thesum\"]\n",
    "            request = Chunk(name = \"request\", slots = {\"isa\":\"count-fact\", \"num1\":g.slots[\"current\"]})\n",
    "            m.time += .05\n",
    "            chunk, latency = m.retrieve(request)\n",
    "            m.add_encounter(chunk)\n",
    "            m.time += latency\n",
    "            print(m.time)\n",
    "            print(g.slots[\"current\"])\n",
    "            g.slots[\"current\"] = chunk.slots[\"num2\"]\n",
    "            m.time += 0.3\n",
    "            g.slots[\"counter\"] = \"zero\"\n",
    "            request = Chunk(name = \"request\", slots = {\"isa\":\"count-fact\", \"num1\":g.slots[\"counter\"]})\n",
    "            m.time += .05\n",
    "            chunk, latency = m.retrieve(request)\n",
    "            m.add_encounter(chunk)\n",
    "            m.time += latency\n",
    "            g.slots[\"counter\"] = chunk.slots[\"num2\"]\n",
    "            m.time += 0.3\n",
    "        elif g.slots[\"counter\"] != g.slots[\"count\"]:\n",
    "            request = Chunk(name = \"request\", slots = {\"isa\":\"count-fact\", \"num1\":g.slots[\"current\"]})\n",
    "            m.time += .05\n",
    "            chunk, latency = m.retrieve(request)\n",
    "            m.add_encounter(chunk)\n",
    "            m.time += latency\n",
    "            print(m.time)\n",
    "            print(g.slots[\"current\"])\n",
    "            g.slots[\"current\"] = chunk.slots[\"num2\"]\n",
    "            m.time += 0.3\n",
    "            request = Chunk(name = \"request\", slots = {\"isa\":\"count-fact\", \"num1\":g.slots[\"counter\"]})\n",
    "            m.time += .05\n",
    "            chunk, latency = m.retrieve(request)\n",
    "            m.add_encounter(chunk)\n",
    "            m.time += latency\n",
    "            g.slots[\"counter\"] = chunk.slots[\"num2\"]\n",
    "            m.time += 0.3\n",
    "        else:\n",
    "            print(m.time)\n",
    "            print(g.slots[\"current\"])\n",
    "            done = True"
   ]
  },
  {
   "cell_type": "code",
   "execution_count": 12,
   "id": "47ce4446",
   "metadata": {},
   "outputs": [
    {
     "name": "stdout",
     "output_type": "stream",
     "text": [
      "1.0679089461696663\n",
      "two\n",
      "1.835709410461045\n",
      "three\n",
      "2.622367690172248\n",
      "four\n",
      "3.4881963672433813\n",
      "five\n",
      "4.390332169442656\n",
      "six\n",
      "5.10049721740829\n",
      "seven\n"
     ]
    }
   ],
   "source": [
    "add(\"two\",\"five\")"
   ]
  },
  {
   "cell_type": "code",
   "execution_count": null,
   "id": "6aa1a879",
   "metadata": {},
   "outputs": [],
   "source": []
  }
 ],
 "metadata": {
  "kernelspec": {
   "display_name": "Python 3 (ipykernel)",
   "language": "python",
   "name": "python3"
  },
  "language_info": {
   "codemirror_mode": {
    "name": "ipython",
    "version": 3
   },
   "file_extension": ".py",
   "mimetype": "text/x-python",
   "name": "python",
   "nbconvert_exporter": "python",
   "pygments_lexer": "ipython3",
   "version": "3.9.12"
  }
 },
 "nbformat": 4,
 "nbformat_minor": 5
}
