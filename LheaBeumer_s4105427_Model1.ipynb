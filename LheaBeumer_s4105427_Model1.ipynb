{
 "cells": [
  {
   "cell_type": "code",
   "execution_count": 1,
   "id": "01018b21",
   "metadata": {},
   "outputs": [],
   "source": [
    "import math\n",
    "import random\n",
    "import pandas as pd\n",
    "import numpy as np\n",
    "import matplotlib.pyplot as plt\n",
    "import seaborn as sns\n",
    "import statistics"
   ]
  },
  {
   "cell_type": "code",
   "execution_count": null,
   "id": "7334a66d",
   "metadata": {},
   "outputs": [],
   "source": [
    "My model explains the data discussed in the paper in the following way. It is build on the assumptions that\n",
    "being prepared or unprepared for a stimulus influences response time. The subject sees a stimulus and tranfers it to\n",
    "a pulse that represents the human internal clock. This pulse is then transferred back to a time that represents\n",
    "the guessed time in seconds of which the subject expects a stimulus to appear.\n",
    "In the lengthened condition the subject is shown 15 trials in which the stimulus is shown 350 ms. In the critical\n",
    "trial, the 16th trial, the stimulus comes later than expected, at 467 ms. This means that the subject was\n",
    "ready for seeing the stimulus before it appeared. As a consequence, the maximum reaction time\n",
    "is shortened by 50 ms. The first graph below shows this, because in the first 15 trials the response time stays around\n",
    "the same mark, while in the 16th critical trial, in which the stimulus appears later than expected, there\n",
    "is a 50ms drop in response time. \n",
    "In the shortened condition, the stimulus appears at 700 ms in the first 15 trials, so the subject builds up an\n",
    "expectation that the stimulus will appear around that time. When in the critical trial the stimulus appears earlier\n",
    "than expected, at 467 ms, the subject is not prepared for it and, as a consequence, the subject needs 50 ms longer\n",
    "to respond. This is shown in the third graph where we can see that the first 15 trials the response times stay\n",
    "around the same mark, while in the 16th trial 50 ms is added to the repsonse time. \n",
    "In the control group, the stimulus is always shown at 467 ms. We would expect response times to, therefor, stay \n",
    "constant. This can be seen in the second graph below. \n",
    "I decided to run 150 subject, since this best reproduces the three graphs in the paper. With a smaller amount of\n",
    "subjects there is much difference of the graphs when re-running the model a couple of times. Any number higher than 150\n",
    "subjects and nothing much changes when re-running the model. \n",
    "The three graphs all start at 410 ms. This makes sense, because a subject has no experience of seeing a stimulus \n",
    "and has no expectation of when a stimulus will appear so, therefore, will have the maximum response time of 410 ms.\n",
    "In all three graphs a hard dip can be seen in the second trial. This also makes sense because they now have seen \n",
    "a stimulus appear at a certain moment, so their expectation will be that the next stimulus also appears at that \n",
    "moment. In other words, in the second trial subject are prepared and their response times, therefore, will\n",
    "have a 50ms drop. \n",
    "The first few trials in all graphs have a lot of noise. In the paper, the first 5 trials were not plotted in\n",
    "the graphs. If we were to take out the first 5 trials in these plots, we could see that the graphs are, although\n",
    "not perfect, a pretty decent fit to those in the paper. The noise coded into the time_to_pulses and pulses_to_time\n",
    "function influences the fit of the model (although the misfit cannot be fully attributed to this noise)"
   ]
  },
  {
   "cell_type": "code",
   "execution_count": 2,
   "id": "5e8af072",
   "metadata": {},
   "outputs": [],
   "source": [
    "def noise(s):\n",
    "    rand = random.uniform(0.001,0.999)\n",
    "    return s * math.log((1 - rand)/rand)"
   ]
  },
  {
   "cell_type": "code",
   "execution_count": 3,
   "id": "f8d47baf",
   "metadata": {},
   "outputs": [],
   "source": [
    "def time_to_pulses(time, t_0 = 0.011, a = 1.1, b = 0.015, add_noise = True):\n",
    "    \n",
    "    pulses = 0\n",
    "    pulse_duration = t_0\n",
    "    \n",
    "    while time >= pulse_duration:\n",
    "        time = time - pulse_duration\n",
    "        pulses = pulses + 1\n",
    "        pulse_duration = a * pulse_duration + add_noise * noise(b * a * pulse_duration)\n",
    "        \n",
    "    return pulses"
   ]
  },
  {
   "cell_type": "code",
   "execution_count": 4,
   "id": "2d0a6916",
   "metadata": {},
   "outputs": [
    {
     "name": "stdout",
     "output_type": "stream",
     "text": [
      "t (s) \t pulses\n",
      "0 \t 0\n",
      "0.011 \t 1\n",
      "0.025 \t 2\n",
      "0.1 \t 6\n",
      "0.5 \t 17\n",
      "1 \t 25\n",
      "10 \t 46\n"
     ]
    }
   ],
   "source": [
    "intervals = [0, 0.011, 0.025, 0.1, 0.5, 1, 10]\n",
    "print(\"t (s)\", \"\\t\", \"pulses\")\n",
    "for t in intervals:\n",
    "    print(t, \"\\t\", time_to_pulses(t))"
   ]
  },
  {
   "cell_type": "code",
   "execution_count": 5,
   "id": "dcb08b8a",
   "metadata": {},
   "outputs": [],
   "source": [
    "def pulses_to_time(pulses, t_0 = 0.011, a = 1.1, b = 0.015, add_noise = True):\n",
    "    \n",
    "    time = 0\n",
    "    pulse_duration = t_0\n",
    "    \n",
    "    while pulses > 0:\n",
    "        time = time + pulse_duration\n",
    "        pulses = pulses - 1\n",
    "        pulse_duration = a * pulse_duration + add_noise * noise(b * a * pulse_duration)\n",
    "    \n",
    "    return time"
   ]
  },
  {
   "cell_type": "code",
   "execution_count": 66,
   "id": "055c055b",
   "metadata": {},
   "outputs": [],
   "source": [
    "def period(time, subs = 150):\n",
    "    \n",
    "    #creating empty dataframe of the trial, subject and response to which we will add all information so we can plot\n",
    "    results = pd.DataFrame(columns = ['trial', 'sub', 'response'])\n",
    "    \n",
    "    for sub in range(subs):\n",
    "        #making an empty list to gather the expectation that is transferred to pulses of the stimulus\n",
    "        guess = []\n",
    "           \n",
    "        #condition lengthened or shortened\n",
    "        if time == 0.35 or time == 0.7:\n",
    "            for trial in range(15):\n",
    "                \n",
    "                #only in the first trial the response time will be 410 ms, since the subject has no expectation\n",
    "                #of when the stimulus will appear, so they will take the maximum amount of response time of 410ms.\n",
    "                if trial==0:\n",
    "                    results.loc[len(results)] = [trial, sub, 0.41]\n",
    "                    #skip over the rest of the loop since this only happens in the first trial\n",
    "                    continue  \n",
    "                    \n",
    "                #transfer the time of the stimulus to pulses. This is the 'internal clock' from which \n",
    "                #the subject makes a guess    \n",
    "                pulse_stimulus = time_to_pulses(time)\n",
    "                \n",
    "                #add these pulses to the empty list that captures previous experiences from which the subject\n",
    "                #builds an expectation of when the next stimulus will appear. \n",
    "                guess.append(pulse_stimulus)\n",
    "                \n",
    "                #take the mean from these expectations to make a guess pulse for the next trial\n",
    "                guess_pulse = statistics.mean(guess)\n",
    "                \n",
    "                #transfer this guess pulse back to time\n",
    "                time_guess = pulses_to_time(guess_pulse)\n",
    "                \n",
    "                #if this expectated time guess is larger than when the actual stimulus appears, response time\n",
    "                #the subject is unprepared and will have a max response time of 410 ms\n",
    "                if time_guess > time:\n",
    "                    response = 0.410\n",
    "                    \n",
    "                #if this expectated time guess is smaller than when the actual stimulus appears - 50 ms, \n",
    "                #the subject is prepared and their response time will be 50 ms shorter\n",
    "                if time_guess < time - 0.05:\n",
    "                    response = 0.410 - 0.05\n",
    "                    \n",
    "                #if this expectated time guess in between when the actual stimulus appears - 50 ms and\n",
    "                #the response time has to be calculated by taking the max response time and withdrawing\n",
    "                #the time when the stimulus appears - their guess\n",
    "                if time_guess > time - 0.05 and time_guess < time:\n",
    "                    response = 0.410 - (time - time_guess) \n",
    "                    \n",
    "                #add the information of the trial, subject and response to the result list so we can plot    \n",
    "                results.loc[len(results)] = [trial, sub, response]\n",
    "            \n",
    "            #the same mechanism works for the critical trial, but here the stimulus appears at 467 ms, which\n",
    "            #influences whether or not the subject was prepared based on their experiences of seeing the\n",
    "            #stimulus at 350 ms or at 700 ms\n",
    "            \n",
    "            #critical trial\n",
    "            trial=16\n",
    "            stimulus_presented = 0.467\n",
    "            guess_pulse = statistics.mean(guess)\n",
    "            time_guess = pulses_to_time(guess_pulse)\n",
    "            if time_guess > stimulus_presented:\n",
    "                response = 0.410\n",
    "            if time_guess < stimulus_presented - 0.05:\n",
    "                response = 0.410 - 0.05\n",
    "            if time_guess > stimulus_presented - 0.05 and time_guess < stimulus_presented:\n",
    "                response = 0.410 - (stimulus_presented - time_guess)\n",
    "                    \n",
    "            results.loc[len(results)] = [trial, sub, response]\n",
    "\n",
    "\n",
    "        #condition constant\n",
    "        if time == 0.467:\n",
    "            \n",
    "            #here we don't need to distinguish between normal trials and critical trial, because the stimulus\n",
    "            #in the constant condition always appears ay 467 ms\n",
    "            for trial in range(16):\n",
    "                \n",
    "                #only in the first trial the response time will be 410 ms, since the subject has no expectation\n",
    "                #of when the stimulus will appear, so they will take the maximum amount of response time of 410ms.\n",
    "                if trial==0:\n",
    "                    results.loc[len(results)] = [trial, sub, 0.41]\n",
    "                    \n",
    "                    #skip over the rest of the loop for only the first trial\n",
    "                    continue           \n",
    "                 \n",
    "                #the same mechanism as described above\n",
    "                pulse_stimulus = time_to_pulses(time)\n",
    "                guess.append(pulse_stimulus)\n",
    "                guess_pulse = statistics.mean(guess)\n",
    "                time_guess = pulses_to_time(guess_pulse)\n",
    "                stimulus_presented = time\n",
    "                if time_guess > stimulus_presented:\n",
    "                    response = 0.410\n",
    "                if time_guess < stimulus_presented - 0.05:\n",
    "                    response = 0.410 - 0.05\n",
    "                if time_guess > stimulus_presented - 0.05 and time_guess < stimulus_presented:\n",
    "                    response = 0.410 - (stimulus_presented - time_guess)          \n",
    "                results.loc[len(results)] = [trial, sub, response]\n",
    "            \n",
    "     \n",
    "    #code for plotting trials against response time\n",
    "    results = results.groupby(['trial'])['response'].mean().reset_index()\n",
    "    plt.plot(results['trial'], results['response'], marker = \"o\")\n",
    "    plt.xlabel(\"Trial\")\n",
    "    plt.ylabel(\"Response Time (s)\")        "
   ]
  },
  {
   "cell_type": "code",
   "execution_count": 67,
   "id": "3b7c3d5e",
   "metadata": {},
   "outputs": [
    {
     "data": {
      "image/png": "[encoded data removed]",
      "text/plain": [
       "<Figure size 432x288 with 1 Axes>"
      ]
     },
     "metadata": {
      "needs_background": "light"
     },
     "output_type": "display_data"
    }
   ],
   "source": [
    "#condition lengthened\n",
    "period(0.35)"
   ]
  },
  {
   "cell_type": "code",
   "execution_count": 68,
   "id": "a226933d",
   "metadata": {},
   "outputs": [
    {
     "data": {
      "image/png": "[encoded data removed]",
      "text/plain": [
       "<Figure size 432x288 with 1 Axes>"
      ]
     },
     "metadata": {
      "needs_background": "light"
     },
     "output_type": "display_data"
    }
   ],
   "source": [
    "#condition constant\n",
    "period(0.467)"
   ]
  },
  {
   "cell_type": "code",
   "execution_count": 69,
   "id": "555860a2",
   "metadata": {},
   "outputs": [
    {
     "data": {
      "image/png": "[encoded data removed]",
      "text/plain": [
       "<Figure size 432x288 with 1 Axes>"
      ]
     },
     "metadata": {
      "needs_background": "light"
     },
     "output_type": "display_data"
    }
   ],
   "source": [
    "#condition shortened\n",
    "period(0.7)"
   ]
  }
 ],
 "metadata": {
  "kernelspec": {
   "display_name": "Python 3 (ipykernel)",
   "language": "python",
   "name": "python3"
  },
  "language_info": {
   "codemirror_mode": {
    "name": "ipython",
    "version": 3
   },
   "file_extension": ".py",
   "mimetype": "text/x-python",
   "name": "python",
   "nbconvert_exporter": "python",
   "pygments_lexer": "ipython3",
   "version": "3.9.12"
  }
 },
 "nbformat": 4,
 "nbformat_minor": 5
}
